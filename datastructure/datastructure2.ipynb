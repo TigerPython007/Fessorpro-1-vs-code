{
 "cells": [
  {
   "cell_type": "code",
   "execution_count": 1,
   "id": "563a2be4",
   "metadata": {},
   "outputs": [
    {
     "name": "stdout",
     "output_type": "stream",
     "text": [
      "abc\n"
     ]
    }
   ],
   "source": [
    "s1 = ('a','b','c')\n",
    "print(''.join(s1))\n"
   ]
  },
  {
   "cell_type": "code",
   "execution_count": 2,
   "id": "08624bba",
   "metadata": {},
   "outputs": [
    {
     "name": "stdout",
     "output_type": "stream",
     "text": [
      "{'amzn': 500, 'tsla': 900, 'goog': 900, 99: 100}\n"
     ]
    }
   ],
   "source": [
    "stock_prices={'amzn':500,'tsla':900,'goog':900,99:100}\n",
    "print(stock_prices)\n"
   ]
  },
  {
   "cell_type": "code",
   "execution_count": 6,
   "id": "e839aafe",
   "metadata": {},
   "outputs": [
    {
     "name": "stdout",
     "output_type": "stream",
     "text": [
      "key doesnt exist\n"
     ]
    }
   ],
   "source": [
    "v=stock_prices.get('nifty')\n",
    "if v:\n",
    "    print(v)\n",
    "else:\n",
    "    print('key doesnt exist')"
   ]
  },
  {
   "cell_type": "code",
   "execution_count": 8,
   "id": "42a34d0c",
   "metadata": {},
   "outputs": [
    {
     "name": "stdout",
     "output_type": "stream",
     "text": [
      "[[4, 5, 6], [6, 7, 8], [88, 99, 66]]\n"
     ]
    }
   ],
   "source": [
    "list1 = [[4,5,6],[6,7,8],[88,99,66]]\n",
    "print(list1)"
   ]
  },
  {
   "cell_type": "code",
   "execution_count": 11,
   "id": "ad0e11ac",
   "metadata": {},
   "outputs": [
    {
     "name": "stdout",
     "output_type": "stream",
     "text": [
      "[6, 7, 8]\n"
     ]
    }
   ],
   "source": [
    "print(list1[1])"
   ]
  },
  {
   "cell_type": "code",
   "execution_count": 13,
   "id": "d5c1a4cd",
   "metadata": {},
   "outputs": [
    {
     "name": "stdout",
     "output_type": "stream",
     "text": [
      "8\n"
     ]
    }
   ],
   "source": [
    "print(list1[1][2])"
   ]
  },
  {
   "cell_type": "code",
   "execution_count": 17,
   "id": "d0c5e861",
   "metadata": {},
   "outputs": [
    {
     "ename": "SyntaxError",
     "evalue": "unterminated string literal (detected at line 2) (190317608.py, line 2)",
     "output_type": "error",
     "traceback": [
      "\u001b[1;36m  Cell \u001b[1;32mIn[17], line 2\u001b[1;36m\u001b[0m\n\u001b[1;33m    'bank:['kotak','hdfc','icici'],\u001b[0m\n\u001b[1;37m                                ^\u001b[0m\n\u001b[1;31mSyntaxError\u001b[0m\u001b[1;31m:\u001b[0m unterminated string literal (detected at line 2)\n"
     ]
    }
   ],
   "source": [
    "stocks = {\n",
    "    'bank:['kotak','hdfc','icici'],\n",
    "    'it':['tcs','wipro','infy'],\n",
    "    'energy':['ntcpc','ongc']\n",
    "}\n",
    "print(stocks.get('it'))"
   ]
  }
 ],
 "metadata": {
  "kernelspec": {
   "display_name": "base",
   "language": "python",
   "name": "python3"
  },
  "language_info": {
   "codemirror_mode": {
    "name": "ipython",
    "version": 3
   },
   "file_extension": ".py",
   "mimetype": "text/x-python",
   "name": "python",
   "nbconvert_exporter": "python",
   "pygments_lexer": "ipython3",
   "version": "3.12.4"
  }
 },
 "nbformat": 4,
 "nbformat_minor": 5
}
